{
 "cells": [
  {
   "cell_type": "markdown",
   "id": "93792d4a-d276-47ea-a391-108378ff45b4",
   "metadata": {
    "jp-MarkdownHeadingCollapsed": true,
    "tags": []
   },
   "source": []
  },
  {
   "cell_type": "code",
   "execution_count": 2,
   "id": "3cb0cd42-f433-4f45-9e21-4ba9bd69018a",
   "metadata": {},
   "outputs": [],
   "source": [
    "# Exp No :2\n",
    "#Aim: To Study basics of data frame.\n",
    "#Name:Shrutika Mehare\n",
    "#Roll No.:39\n",
    "#Sec:B\n",
    "#Subject:ET 1\n",
    "#Date:07/08/2025"
   ]
  },
  {
   "cell_type": "markdown",
   "id": "8b14de4f-7658-4780-977a-68d1d98ae086",
   "metadata": {
    "tags": []
   },
   "source": [
    "# Aim: To Study basics of data frame."
   ]
  },
  {
   "cell_type": "markdown",
   "id": "f6986632-b1b1-40e8-b9ab-48822aa73678",
   "metadata": {},
   "source": [
    "# Creating Series"
   ]
  },
  {
   "cell_type": "code",
   "execution_count": 3,
   "id": "10499227-6563-42e2-8fc1-978c216d65ba",
   "metadata": {},
   "outputs": [],
   "source": [
    "import pandas as pd"
   ]
  },
  {
   "cell_type": "code",
   "execution_count": 2,
   "id": "8cd5b28d-8656-443b-a1a9-85e69eb7902f",
   "metadata": {},
   "outputs": [
    {
     "data": {
      "text/plain": [
       "['Shrutika', 'Vedanti', 'Sakshi', 'Pranali', 'Himani']"
      ]
     },
     "execution_count": 2,
     "metadata": {},
     "output_type": "execute_result"
    }
   ],
   "source": [
    "Name=[\"Shrutika\",\"Vedanti\",\"Sakshi\",\"Pranali\",\"Himani\"] \n",
    "Name"
   ]
  },
  {
   "cell_type": "code",
   "execution_count": 4,
   "id": "26fbf0da-fd59-4a39-8660-4e9043892ace",
   "metadata": {},
   "outputs": [
    {
     "name": "stdout",
     "output_type": "stream",
     "text": [
      "1    Shrutika\n",
      "2     Vedanti\n",
      "3      Sakshi\n",
      "4     Pranali\n",
      "5      Himani\n",
      "dtype: object\n"
     ]
    }
   ],
   "source": [
    "#Creating Series\n",
    "Roll_list=pd.Series(Name,index=[1,2,3,4,5])\n",
    "print(Roll_list)"
   ]
  },
  {
   "cell_type": "markdown",
   "id": "52104e0e-ede5-45a5-9d14-d95b5001906c",
   "metadata": {},
   "source": [
    "# Creating Data Frame"
   ]
  },
  {
   "cell_type": "code",
   "execution_count": 5,
   "id": "18aaa48f-617d-400b-a591-8b38b729d9f3",
   "metadata": {},
   "outputs": [],
   "source": [
    "import pandas as pd"
   ]
  },
  {
   "cell_type": "code",
   "execution_count": 6,
   "id": "9951eade-4b40-4e84-b8c9-031dbfc940f0",
   "metadata": {},
   "outputs": [],
   "source": [
    "#Creating Data Frame\n",
    "df=pd.DataFrame([[10,12,14,16],[11,18,15,21],[12,13,14,15]],\n",
    "columns=[\"CD\",\"DBMS\",\"DSS\",\"CAO\"])\n"
   ]
  },
  {
   "cell_type": "code",
   "execution_count": 7,
   "id": "83571544-cc13-4fb5-afc6-39eeb4261403",
   "metadata": {},
   "outputs": [
    {
     "data": {
      "text/html": [
       "<div>\n",
       "<style scoped>\n",
       "    .dataframe tbody tr th:only-of-type {\n",
       "        vertical-align: middle;\n",
       "    }\n",
       "\n",
       "    .dataframe tbody tr th {\n",
       "        vertical-align: top;\n",
       "    }\n",
       "\n",
       "    .dataframe thead th {\n",
       "        text-align: right;\n",
       "    }\n",
       "</style>\n",
       "<table border=\"1\" class=\"dataframe\">\n",
       "  <thead>\n",
       "    <tr style=\"text-align: right;\">\n",
       "      <th></th>\n",
       "      <th>CD</th>\n",
       "      <th>DBMS</th>\n",
       "      <th>DSS</th>\n",
       "      <th>CAO</th>\n",
       "    </tr>\n",
       "  </thead>\n",
       "  <tbody>\n",
       "    <tr>\n",
       "      <th>0</th>\n",
       "      <td>10</td>\n",
       "      <td>12</td>\n",
       "      <td>14</td>\n",
       "      <td>16</td>\n",
       "    </tr>\n",
       "    <tr>\n",
       "      <th>1</th>\n",
       "      <td>11</td>\n",
       "      <td>18</td>\n",
       "      <td>15</td>\n",
       "      <td>21</td>\n",
       "    </tr>\n",
       "    <tr>\n",
       "      <th>2</th>\n",
       "      <td>12</td>\n",
       "      <td>13</td>\n",
       "      <td>14</td>\n",
       "      <td>15</td>\n",
       "    </tr>\n",
       "  </tbody>\n",
       "</table>\n",
       "</div>"
      ],
      "text/plain": [
       "   CD  DBMS  DSS  CAO\n",
       "0  10    12   14   16\n",
       "1  11    18   15   21\n",
       "2  12    13   14   15"
      ]
     },
     "execution_count": 7,
     "metadata": {},
     "output_type": "execute_result"
    }
   ],
   "source": [
    "df"
   ]
  },
  {
   "cell_type": "code",
   "execution_count": 8,
   "id": "f44b2230-c1b7-4424-ad66-ada0ef6f69d1",
   "metadata": {},
   "outputs": [
    {
     "data": {
      "text/plain": [
       "(3, 4)"
      ]
     },
     "execution_count": 8,
     "metadata": {},
     "output_type": "execute_result"
    }
   ],
   "source": [
    "df.shape"
   ]
  },
  {
   "cell_type": "code",
   "execution_count": 9,
   "id": "f6d3c1f3-a00a-48f9-a11c-15969d9757cc",
   "metadata": {},
   "outputs": [
    {
     "data": {
      "text/plain": [
       "12"
      ]
     },
     "execution_count": 9,
     "metadata": {},
     "output_type": "execute_result"
    }
   ],
   "source": [
    "df.size"
   ]
  },
  {
   "cell_type": "code",
   "execution_count": 10,
   "id": "3830c153-8a78-45a9-8bf4-6875df964bbe",
   "metadata": {},
   "outputs": [
    {
     "data": {
      "text/plain": [
       "2"
      ]
     },
     "execution_count": 10,
     "metadata": {},
     "output_type": "execute_result"
    }
   ],
   "source": [
    "df.ndim"
   ]
  },
  {
   "cell_type": "markdown",
   "id": "c058d39b-3a8e-4e5d-bc40-f3780f474f6a",
   "metadata": {},
   "source": [
    "# Adding Record (Row) to the Data Frame"
   ]
  },
  {
   "cell_type": "code",
   "execution_count": 12,
   "id": "71cce1ff-6884-485e-89d1-25e57d731c25",
   "metadata": {},
   "outputs": [],
   "source": [
    "df2=pd.DataFrame([[5,6,7,8]],\n",
    "columns=[\"CD\",\"DBMS\",\"DSS\",\"CAO\"])\n"
   ]
  },
  {
   "cell_type": "code",
   "execution_count": 15,
   "id": "81938ba5-fae0-4146-a7c6-7e4bdd819d9f",
   "metadata": {},
   "outputs": [],
   "source": [
    "df3=df.append(df2,ignore_index=True)"
   ]
  },
  {
   "cell_type": "code",
   "execution_count": 16,
   "id": "4d5558bf-dd36-4be0-bf72-5fe306697878",
   "metadata": {},
   "outputs": [
    {
     "data": {
      "text/html": [
       "<div>\n",
       "<style scoped>\n",
       "    .dataframe tbody tr th:only-of-type {\n",
       "        vertical-align: middle;\n",
       "    }\n",
       "\n",
       "    .dataframe tbody tr th {\n",
       "        vertical-align: top;\n",
       "    }\n",
       "\n",
       "    .dataframe thead th {\n",
       "        text-align: right;\n",
       "    }\n",
       "</style>\n",
       "<table border=\"1\" class=\"dataframe\">\n",
       "  <thead>\n",
       "    <tr style=\"text-align: right;\">\n",
       "      <th></th>\n",
       "      <th>CD</th>\n",
       "      <th>DBMS</th>\n",
       "      <th>DSS</th>\n",
       "      <th>CAO</th>\n",
       "    </tr>\n",
       "  </thead>\n",
       "  <tbody>\n",
       "    <tr>\n",
       "      <th>0</th>\n",
       "      <td>10</td>\n",
       "      <td>12</td>\n",
       "      <td>14</td>\n",
       "      <td>16</td>\n",
       "    </tr>\n",
       "    <tr>\n",
       "      <th>1</th>\n",
       "      <td>11</td>\n",
       "      <td>18</td>\n",
       "      <td>15</td>\n",
       "      <td>21</td>\n",
       "    </tr>\n",
       "    <tr>\n",
       "      <th>2</th>\n",
       "      <td>12</td>\n",
       "      <td>13</td>\n",
       "      <td>14</td>\n",
       "      <td>15</td>\n",
       "    </tr>\n",
       "    <tr>\n",
       "      <th>3</th>\n",
       "      <td>5</td>\n",
       "      <td>6</td>\n",
       "      <td>7</td>\n",
       "      <td>8</td>\n",
       "    </tr>\n",
       "  </tbody>\n",
       "</table>\n",
       "</div>"
      ],
      "text/plain": [
       "   CD  DBMS  DSS  CAO\n",
       "0  10    12   14   16\n",
       "1  11    18   15   21\n",
       "2  12    13   14   15\n",
       "3   5     6    7    8"
      ]
     },
     "execution_count": 16,
     "metadata": {},
     "output_type": "execute_result"
    }
   ],
   "source": [
    "df3"
   ]
  },
  {
   "cell_type": "markdown",
   "id": "1696c4c8-d8f4-4553-b647-e35c1564bfb4",
   "metadata": {},
   "source": [
    "# Adding Attribute (Columns) name DM"
   ]
  },
  {
   "cell_type": "code",
   "execution_count": 17,
   "id": "e8b5fda0-14f4-4c63-ad95-fd91eb2951bd",
   "metadata": {},
   "outputs": [],
   "source": [
    "df3[\"DM\"]=[12,15,16,14]"
   ]
  },
  {
   "cell_type": "code",
   "execution_count": 18,
   "id": "c3bf63d9-d172-456b-b790-76b86530fb75",
   "metadata": {},
   "outputs": [
    {
     "data": {
      "text/html": [
       "<div>\n",
       "<style scoped>\n",
       "    .dataframe tbody tr th:only-of-type {\n",
       "        vertical-align: middle;\n",
       "    }\n",
       "\n",
       "    .dataframe tbody tr th {\n",
       "        vertical-align: top;\n",
       "    }\n",
       "\n",
       "    .dataframe thead th {\n",
       "        text-align: right;\n",
       "    }\n",
       "</style>\n",
       "<table border=\"1\" class=\"dataframe\">\n",
       "  <thead>\n",
       "    <tr style=\"text-align: right;\">\n",
       "      <th></th>\n",
       "      <th>CD</th>\n",
       "      <th>DBMS</th>\n",
       "      <th>DSS</th>\n",
       "      <th>CAO</th>\n",
       "      <th>DM</th>\n",
       "    </tr>\n",
       "  </thead>\n",
       "  <tbody>\n",
       "    <tr>\n",
       "      <th>0</th>\n",
       "      <td>10</td>\n",
       "      <td>12</td>\n",
       "      <td>14</td>\n",
       "      <td>16</td>\n",
       "      <td>12</td>\n",
       "    </tr>\n",
       "    <tr>\n",
       "      <th>1</th>\n",
       "      <td>11</td>\n",
       "      <td>18</td>\n",
       "      <td>15</td>\n",
       "      <td>21</td>\n",
       "      <td>15</td>\n",
       "    </tr>\n",
       "    <tr>\n",
       "      <th>2</th>\n",
       "      <td>12</td>\n",
       "      <td>13</td>\n",
       "      <td>14</td>\n",
       "      <td>15</td>\n",
       "      <td>16</td>\n",
       "    </tr>\n",
       "    <tr>\n",
       "      <th>3</th>\n",
       "      <td>5</td>\n",
       "      <td>6</td>\n",
       "      <td>7</td>\n",
       "      <td>8</td>\n",
       "      <td>14</td>\n",
       "    </tr>\n",
       "  </tbody>\n",
       "</table>\n",
       "</div>"
      ],
      "text/plain": [
       "   CD  DBMS  DSS  CAO  DM\n",
       "0  10    12   14   16  12\n",
       "1  11    18   15   21  15\n",
       "2  12    13   14   15  16\n",
       "3   5     6    7    8  14"
      ]
     },
     "execution_count": 18,
     "metadata": {},
     "output_type": "execute_result"
    }
   ],
   "source": [
    "df3"
   ]
  },
  {
   "cell_type": "markdown",
   "id": "531b0b18-4ec9-456f-b5a1-d6a7acf9f52a",
   "metadata": {},
   "source": [
    "# Deleting Record from df3 DataFrame"
   ]
  },
  {
   "cell_type": "code",
   "execution_count": 34,
   "id": "b6dc9f41-906a-4445-8450-a24fb8fd8538",
   "metadata": {},
   "outputs": [],
   "source": [
    "df4=df3. drop(index=[1])"
   ]
  },
  {
   "cell_type": "code",
   "execution_count": 35,
   "id": "667357a3-7c5a-4a95-9450-e409054b9a8c",
   "metadata": {},
   "outputs": [
    {
     "data": {
      "text/html": [
       "<div>\n",
       "<style scoped>\n",
       "    .dataframe tbody tr th:only-of-type {\n",
       "        vertical-align: middle;\n",
       "    }\n",
       "\n",
       "    .dataframe tbody tr th {\n",
       "        vertical-align: top;\n",
       "    }\n",
       "\n",
       "    .dataframe thead th {\n",
       "        text-align: right;\n",
       "    }\n",
       "</style>\n",
       "<table border=\"1\" class=\"dataframe\">\n",
       "  <thead>\n",
       "    <tr style=\"text-align: right;\">\n",
       "      <th></th>\n",
       "      <th>CD</th>\n",
       "      <th>DBMS</th>\n",
       "      <th>DSS</th>\n",
       "      <th>CAO</th>\n",
       "      <th>DM</th>\n",
       "    </tr>\n",
       "  </thead>\n",
       "  <tbody>\n",
       "    <tr>\n",
       "      <th>0</th>\n",
       "      <td>10</td>\n",
       "      <td>12</td>\n",
       "      <td>14</td>\n",
       "      <td>16</td>\n",
       "      <td>12</td>\n",
       "    </tr>\n",
       "    <tr>\n",
       "      <th>2</th>\n",
       "      <td>12</td>\n",
       "      <td>13</td>\n",
       "      <td>14</td>\n",
       "      <td>15</td>\n",
       "      <td>16</td>\n",
       "    </tr>\n",
       "    <tr>\n",
       "      <th>3</th>\n",
       "      <td>5</td>\n",
       "      <td>6</td>\n",
       "      <td>7</td>\n",
       "      <td>8</td>\n",
       "      <td>14</td>\n",
       "    </tr>\n",
       "  </tbody>\n",
       "</table>\n",
       "</div>"
      ],
      "text/plain": [
       "   CD  DBMS  DSS  CAO  DM\n",
       "0  10    12   14   16  12\n",
       "2  12    13   14   15  16\n",
       "3   5     6    7    8  14"
      ]
     },
     "execution_count": 35,
     "metadata": {},
     "output_type": "execute_result"
    }
   ],
   "source": [
    "df4"
   ]
  },
  {
   "cell_type": "markdown",
   "id": "a4ed2c27-ed35-4a79-a9ff-783de171f0a4",
   "metadata": {},
   "source": [
    "df4"
   ]
  },
  {
   "cell_type": "markdown",
   "id": "8e757f68-2f8a-41fa-8a66-12160d26c775",
   "metadata": {},
   "source": [
    "# Deleting Attribute (columns) from df3 DataFrame"
   ]
  },
  {
   "cell_type": "code",
   "execution_count": 36,
   "id": "780865f7-c8db-474e-9047-c6e68744ce7e",
   "metadata": {},
   "outputs": [],
   "source": [
    "df5=df3.drop(columns=[\"DM\"])"
   ]
  },
  {
   "cell_type": "code",
   "execution_count": 37,
   "id": "839d077b-edee-4d0b-a6f9-698d31288a7f",
   "metadata": {},
   "outputs": [
    {
     "data": {
      "text/html": [
       "<div>\n",
       "<style scoped>\n",
       "    .dataframe tbody tr th:only-of-type {\n",
       "        vertical-align: middle;\n",
       "    }\n",
       "\n",
       "    .dataframe tbody tr th {\n",
       "        vertical-align: top;\n",
       "    }\n",
       "\n",
       "    .dataframe thead th {\n",
       "        text-align: right;\n",
       "    }\n",
       "</style>\n",
       "<table border=\"1\" class=\"dataframe\">\n",
       "  <thead>\n",
       "    <tr style=\"text-align: right;\">\n",
       "      <th></th>\n",
       "      <th>CD</th>\n",
       "      <th>DBMS</th>\n",
       "      <th>DSS</th>\n",
       "      <th>CAO</th>\n",
       "    </tr>\n",
       "  </thead>\n",
       "  <tbody>\n",
       "    <tr>\n",
       "      <th>0</th>\n",
       "      <td>10</td>\n",
       "      <td>12</td>\n",
       "      <td>14</td>\n",
       "      <td>16</td>\n",
       "    </tr>\n",
       "    <tr>\n",
       "      <th>1</th>\n",
       "      <td>11</td>\n",
       "      <td>18</td>\n",
       "      <td>15</td>\n",
       "      <td>21</td>\n",
       "    </tr>\n",
       "    <tr>\n",
       "      <th>2</th>\n",
       "      <td>12</td>\n",
       "      <td>13</td>\n",
       "      <td>14</td>\n",
       "      <td>15</td>\n",
       "    </tr>\n",
       "    <tr>\n",
       "      <th>3</th>\n",
       "      <td>5</td>\n",
       "      <td>6</td>\n",
       "      <td>7</td>\n",
       "      <td>8</td>\n",
       "    </tr>\n",
       "  </tbody>\n",
       "</table>\n",
       "</div>"
      ],
      "text/plain": [
       "   CD  DBMS  DSS  CAO\n",
       "0  10    12   14   16\n",
       "1  11    18   15   21\n",
       "2  12    13   14   15\n",
       "3   5     6    7    8"
      ]
     },
     "execution_count": 37,
     "metadata": {},
     "output_type": "execute_result"
    }
   ],
   "source": [
    "df5"
   ]
  },
  {
   "cell_type": "markdown",
   "id": "7f789545-8f87-437a-afd7-f4feb4bdf4d9",
   "metadata": {},
   "source": [
    "# Finding Mean Median Mode"
   ]
  },
  {
   "cell_type": "code",
   "execution_count": 38,
   "id": "674def44-f3a2-4fc0-8d19-0af00011e62b",
   "metadata": {},
   "outputs": [
    {
     "name": "stdout",
     "output_type": "stream",
     "text": [
      "Mean of DSS : 12.5\n"
     ]
    }
   ],
   "source": [
    "#Finding mean of DSS\n",
    "print(\"Mean of DSS :\",df5[\"DSS\"].mean())\n"
   ]
  },
  {
   "cell_type": "code",
   "execution_count": 39,
   "id": "4cce0bcb-b8f6-4100-93e0-fd2d85381d37",
   "metadata": {},
   "outputs": [
    {
     "name": "stdout",
     "output_type": "stream",
     "text": [
      "Median of DSS : 14.0\n"
     ]
    }
   ],
   "source": [
    "#Finding median of DSS\n",
    "print(\"Median of DSS :\",df5[\"DSS\"].median())"
   ]
  },
  {
   "cell_type": "code",
   "execution_count": 40,
   "id": "315223b8-c39e-4d3d-ab33-b73501dddbd0",
   "metadata": {},
   "outputs": [
    {
     "name": "stdout",
     "output_type": "stream",
     "text": [
      "Mode of DSS : 0    14\n",
      "dtype: int64\n"
     ]
    }
   ],
   "source": [
    "#Finding mode of DSS\n",
    "print(\"Mode of DSS :\",df5[\"DSS\"].mode())"
   ]
  },
  {
   "cell_type": "code",
   "execution_count": null,
   "id": "4035ed27-9736-475b-8230-cabc3645f69c",
   "metadata": {},
   "outputs": [],
   "source": []
  }
 ],
 "metadata": {
  "kernelspec": {
   "display_name": "Python 3 (ipykernel)",
   "language": "python",
   "name": "python3"
  },
  "language_info": {
   "codemirror_mode": {
    "name": "ipython",
    "version": 3
   },
   "file_extension": ".py",
   "mimetype": "text/x-python",
   "name": "python",
   "nbconvert_exporter": "python",
   "pygments_lexer": "ipython3",
   "version": "3.9.7"
  }
 },
 "nbformat": 4,
 "nbformat_minor": 5
}
