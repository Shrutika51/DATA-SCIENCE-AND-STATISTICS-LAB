{
 "cells": [
  {
   "cell_type": "code",
   "execution_count": 1,
   "id": "40b8a687-aa58-427b-bf7a-1f6f6fba9ee9",
   "metadata": {},
   "outputs": [],
   "source": [
    "# Exp No :2\n",
    "#Aim: To find Central Tendancy  of Measures (Mean,Median,Mode).\n",
    "#Name:Shrutika Mehare\n",
    "#Roll No.:39\n",
    "#Sec:B\n",
    "#Subject:ET 1\n",
    "#Date:31/07/2025"
   ]
  },
  {
   "cell_type": "markdown",
   "id": "0e2ac481-746f-4f52-9f8a-c4295625acca",
   "metadata": {},
   "source": [
    "# Aim: To find Central Tendancy  of Measures (Mean,Median,Mode)"
   ]
  },
  {
   "cell_type": "code",
   "execution_count": 5,
   "id": "1621cdb8-01a3-4099-9afa-0f25f89ef245",
   "metadata": {},
   "outputs": [],
   "source": [
    "age=[21,20,22,23,23,22,22,20,20,21]"
   ]
  },
  {
   "cell_type": "code",
   "execution_count": 6,
   "id": "6b04c73f-3c40-4e24-920c-e94fc22a1231",
   "metadata": {},
   "outputs": [
    {
     "data": {
      "text/plain": [
       "[21, 20, 22, 23, 23, 22, 22, 20, 20, 21]"
      ]
     },
     "execution_count": 6,
     "metadata": {},
     "output_type": "execute_result"
    }
   ],
   "source": [
    "age"
   ]
  },
  {
   "cell_type": "code",
   "execution_count": 14,
   "id": "5983553a-c754-4ca8-a4e7-72a03c5966ae",
   "metadata": {},
   "outputs": [],
   "source": [
    "import statistics "
   ]
  },
  {
   "cell_type": "code",
   "execution_count": 15,
   "id": "6ce7b1a5-3f1e-4a33-b1d2-03fa16026f00",
   "metadata": {},
   "outputs": [],
   "source": [
    "A=statistics.mean(age)"
   ]
  },
  {
   "cell_type": "code",
   "execution_count": 16,
   "id": "e06ff9db-04d1-4af2-ac1d-6cfe30b36331",
   "metadata": {},
   "outputs": [
    {
     "data": {
      "text/plain": [
       "21.4"
      ]
     },
     "execution_count": 16,
     "metadata": {},
     "output_type": "execute_result"
    }
   ],
   "source": [
    "A"
   ]
  },
  {
   "cell_type": "code",
   "execution_count": 17,
   "id": "534d1004-c5cf-4478-97fc-0dd1c8504bbf",
   "metadata": {},
   "outputs": [
    {
     "name": "stdout",
     "output_type": "stream",
     "text": [
      "21.4\n"
     ]
    }
   ],
   "source": [
    "print(A)"
   ]
  },
  {
   "cell_type": "code",
   "execution_count": 18,
   "id": "48acbb75-b186-4b70-bbe1-7551c10515b6",
   "metadata": {},
   "outputs": [],
   "source": [
    "B =statistics.median(age)"
   ]
  },
  {
   "cell_type": "code",
   "execution_count": 19,
   "id": "f518565f-a49c-4da2-9785-4c2278cdbdbe",
   "metadata": {},
   "outputs": [
    {
     "data": {
      "text/plain": [
       "21.5"
      ]
     },
     "execution_count": 19,
     "metadata": {},
     "output_type": "execute_result"
    }
   ],
   "source": [
    "B"
   ]
  },
  {
   "cell_type": "code",
   "execution_count": 20,
   "id": "f7e2270f-b02c-4f6c-b543-d30c0d7ad29d",
   "metadata": {},
   "outputs": [],
   "source": [
    "C =statistics.mode(age)"
   ]
  },
  {
   "cell_type": "code",
   "execution_count": 21,
   "id": "e5de3f48-aa92-40be-b459-269cd9ed9e53",
   "metadata": {},
   "outputs": [
    {
     "data": {
      "text/plain": [
       "20"
      ]
     },
     "execution_count": 21,
     "metadata": {},
     "output_type": "execute_result"
    }
   ],
   "source": [
    "C"
   ]
  },
  {
   "cell_type": "code",
   "execution_count": 22,
   "id": "949edfa9-054d-43e7-9355-02880636c0d8",
   "metadata": {},
   "outputs": [],
   "source": [
    "import numpy as np\n",
    "x=np.array([1,2,3,4,5,6,7,2,6,2,1,4,2,2,6])"
   ]
  },
  {
   "cell_type": "code",
   "execution_count": 23,
   "id": "8d140af3-e2e6-48d7-b54b-d17b535b0515",
   "metadata": {},
   "outputs": [
    {
     "data": {
      "text/plain": [
       "array([1, 2, 3, 4, 5, 6, 7, 2, 6, 2, 1, 4, 2, 2, 6])"
      ]
     },
     "execution_count": 23,
     "metadata": {},
     "output_type": "execute_result"
    }
   ],
   "source": [
    "x"
   ]
  },
  {
   "cell_type": "code",
   "execution_count": 24,
   "id": "eb06f02c-5a1a-4436-bf6f-fa45de6c3cb2",
   "metadata": {},
   "outputs": [
    {
     "name": "stdout",
     "output_type": "stream",
     "text": [
      "3.533333333333333\n"
     ]
    }
   ],
   "source": [
    "print(np.mean(x))"
   ]
  },
  {
   "cell_type": "code",
   "execution_count": 25,
   "id": "a3eb5ecc-6430-46d2-b938-6a079be4e34f",
   "metadata": {},
   "outputs": [
    {
     "name": "stdout",
     "output_type": "stream",
     "text": [
      "3.0\n"
     ]
    }
   ],
   "source": [
    "print(np.median(x))"
   ]
  },
  {
   "cell_type": "code",
   "execution_count": 26,
   "id": "5db57fa8-6a3e-44b2-811d-3ab9580d0773",
   "metadata": {},
   "outputs": [],
   "source": [
    "from scipy import stats"
   ]
  },
  {
   "cell_type": "code",
   "execution_count": 27,
   "id": "4d1e653c-050d-44bb-87aa-7032f7723b1c",
   "metadata": {},
   "outputs": [
    {
     "name": "stdout",
     "output_type": "stream",
     "text": [
      "ModeResult(mode=array([2]), count=array([5]))\n"
     ]
    }
   ],
   "source": [
    "print(stats.mode(x))"
   ]
  },
  {
   "cell_type": "code",
   "execution_count": 31,
   "id": "10c9221d-0d02-4a00-89d4-8f73e46f0e1c",
   "metadata": {},
   "outputs": [
    {
     "name": "stdout",
     "output_type": "stream",
     "text": [
      "3.8488888888888884\n"
     ]
    }
   ],
   "source": [
    "print(np.var(x))"
   ]
  },
  {
   "cell_type": "code",
   "execution_count": 32,
   "id": "1002ca0d-7c9b-43c7-8097-53c341362aa8",
   "metadata": {},
   "outputs": [],
   "source": [
    "std_dev = stats.tstd(x)"
   ]
  },
  {
   "cell_type": "code",
   "execution_count": 33,
   "id": "d15035c6-0b23-4b81-8945-18d68dd1d04c",
   "metadata": {},
   "outputs": [
    {
     "name": "stdout",
     "output_type": "stream",
     "text": [
      "Standard Deviation: 2.0307165050320353\n"
     ]
    }
   ],
   "source": [
    "print(\"Standard Deviation:\", std_dev)"
   ]
  },
  {
   "cell_type": "code",
   "execution_count": 34,
   "id": "4e55d6d3-ca6d-4146-b1b7-f3f08533b49b",
   "metadata": {},
   "outputs": [],
   "source": [
    "variance = stats.tvar(x)"
   ]
  },
  {
   "cell_type": "code",
   "execution_count": 35,
   "id": "d999a82a-3466-4df2-9038-57d7df5917db",
   "metadata": {},
   "outputs": [
    {
     "name": "stdout",
     "output_type": "stream",
     "text": [
      "Variance: 4.123809523809523\n"
     ]
    }
   ],
   "source": [
    "print(\"Variance:\", variance)"
   ]
  },
  {
   "cell_type": "code",
   "execution_count": 2,
   "id": "75747bbd-9c28-49e3-9c83-a344d9059d44",
   "metadata": {},
   "outputs": [],
   "source": []
  },
  {
   "cell_type": "code",
   "execution_count": 7,
   "id": "c5409298-12f1-46a8-b199-dc984802f78e",
   "metadata": {},
   "outputs": [],
   "source": [
    "import numpy as np"
   ]
  },
  {
   "cell_type": "code",
   "execution_count": 8,
   "id": "171552b3-a00a-4d2e-b39e-986414412d2d",
   "metadata": {},
   "outputs": [],
   "source": [
    "a1=np.array([10,20,30,40])"
   ]
  },
  {
   "cell_type": "code",
   "execution_count": 9,
   "id": "1293c6fd-a4c7-468d-af09-2ae61fa07cce",
   "metadata": {},
   "outputs": [
    {
     "data": {
      "text/plain": [
       "array([10, 20, 30, 40])"
      ]
     },
     "execution_count": 9,
     "metadata": {},
     "output_type": "execute_result"
    }
   ],
   "source": [
    "a1"
   ]
  },
  {
   "cell_type": "code",
   "execution_count": 10,
   "id": "a3feebbc-0b3c-4dd2-accc-7362fc02a91c",
   "metadata": {},
   "outputs": [],
   "source": [
    "a2=np.array([[10,20,30,40],[60,70,80,90]])"
   ]
  },
  {
   "cell_type": "code",
   "execution_count": 11,
   "id": "0e4d4c2b-7cfb-418b-a40f-0258de0e9b5d",
   "metadata": {},
   "outputs": [
    {
     "data": {
      "text/plain": [
       "array([[10, 20, 30, 40],\n",
       "       [60, 70, 80, 90]])"
      ]
     },
     "execution_count": 11,
     "metadata": {},
     "output_type": "execute_result"
    }
   ],
   "source": [
    "a2"
   ]
  },
  {
   "cell_type": "code",
   "execution_count": 14,
   "id": "8be46e23-6e07-45b8-9b21-2ec807a1e00e",
   "metadata": {},
   "outputs": [],
   "source": [
    "#3 dimensional array#"
   ]
  },
  {
   "cell_type": "code",
   "execution_count": 16,
   "id": "b692691a-29a7-4105-859f-52c4f74c5ac3",
   "metadata": {},
   "outputs": [],
   "source": [
    "a3=np.array([[10,20,30,40],[60,70,80,90],[100,110,120,130]])"
   ]
  },
  {
   "cell_type": "code",
   "execution_count": 17,
   "id": "60aa846d-e531-4749-b785-6861a7a9f6be",
   "metadata": {},
   "outputs": [
    {
     "data": {
      "text/plain": [
       "array([[ 10,  20,  30,  40],\n",
       "       [ 60,  70,  80,  90],\n",
       "       [100, 110, 120, 130]])"
      ]
     },
     "execution_count": 17,
     "metadata": {},
     "output_type": "execute_result"
    }
   ],
   "source": [
    "a3"
   ]
  },
  {
   "cell_type": "code",
   "execution_count": null,
   "id": "aa1817d5-92f6-4d7b-82fd-bf68dff634c6",
   "metadata": {},
   "outputs": [],
   "source": []
  }
 ],
 "metadata": {
  "kernelspec": {
   "display_name": "Python 3 (ipykernel)",
   "language": "python",
   "name": "python3"
  },
  "language_info": {
   "codemirror_mode": {
    "name": "ipython",
    "version": 3
   },
   "file_extension": ".py",
   "mimetype": "text/x-python",
   "name": "python",
   "nbconvert_exporter": "python",
   "pygments_lexer": "ipython3",
   "version": "3.9.7"
  }
 },
 "nbformat": 4,
 "nbformat_minor": 5
}
