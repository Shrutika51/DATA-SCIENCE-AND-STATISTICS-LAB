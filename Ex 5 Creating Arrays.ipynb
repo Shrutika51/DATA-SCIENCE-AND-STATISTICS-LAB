{
 "cells": [
  {
   "cell_type": "code",
   "execution_count": 1,
   "id": "ca70fe2d-1339-4ff9-9b75-bdbf54d8847c",
   "metadata": {},
   "outputs": [],
   "source": [
    "# Exp No :5\n",
    "#Aim: Creation of Array(1D,2D and Multidimensional array).\n",
    "#Name:Shrutika Mehare\n",
    "#Roll No.:39\n",
    "#Sec:B\n",
    "#Subject:ET 1\n",
    "#Date:21/08/2025"
   ]
  },
  {
   "cell_type": "markdown",
   "id": "6f51e98c-c819-4e51-a0c5-f97d80fb0e99",
   "metadata": {},
   "source": [
    "# Aim: Creation of Array(1D,2D and Multidimensional array)."
   ]
  },
  {
   "cell_type": "code",
   "execution_count": 2,
   "id": "adf042ec-d9a1-44a0-8c5b-4387819f9258",
   "metadata": {},
   "outputs": [],
   "source": [
    "import numpy as np"
   ]
  },
  {
   "cell_type": "markdown",
   "id": "bee07620-191a-437c-bd9b-b04693b22f92",
   "metadata": {},
   "source": [
    "# 1 Dimensional Array"
   ]
  },
  {
   "cell_type": "code",
   "execution_count": 3,
   "id": "21fe788a-acdd-481a-8530-e6db7f676945",
   "metadata": {},
   "outputs": [],
   "source": [
    "arr1=np.array([10,20,30,40,50])"
   ]
  },
  {
   "cell_type": "code",
   "execution_count": 4,
   "id": "e35927a0-6513-4705-8569-f1a048be3f0f",
   "metadata": {},
   "outputs": [
    {
     "data": {
      "text/plain": [
       "array([10, 20, 30, 40, 50])"
      ]
     },
     "execution_count": 4,
     "metadata": {},
     "output_type": "execute_result"
    }
   ],
   "source": [
    "arr1"
   ]
  },
  {
   "cell_type": "markdown",
   "id": "a8c3223d-d3b8-4f1c-8768-727625f3311d",
   "metadata": {},
   "source": [
    "# 2 Dimensional Array"
   ]
  },
  {
   "cell_type": "code",
   "execution_count": 5,
   "id": "48d3dff4-017d-4b6b-89fd-b25e71c899a8",
   "metadata": {},
   "outputs": [],
   "source": [
    "arr2=([10,20,30,40,50],[60,70,80,90,100])"
   ]
  },
  {
   "cell_type": "code",
   "execution_count": 6,
   "id": "30268d0c-9a02-41cc-8439-b1bc630a9428",
   "metadata": {},
   "outputs": [
    {
     "data": {
      "text/plain": [
       "([10, 20, 30, 40, 50], [60, 70, 80, 90, 100])"
      ]
     },
     "execution_count": 6,
     "metadata": {},
     "output_type": "execute_result"
    }
   ],
   "source": [
    "arr2"
   ]
  },
  {
   "cell_type": "markdown",
   "id": "1f0d6e41-3722-47e2-96d7-246b81064522",
   "metadata": {},
   "source": [
    "# 3 Dimensional Array"
   ]
  },
  {
   "cell_type": "code",
   "execution_count": 20,
   "id": "00930796-8ac7-4368-a2de-db75660fd81a",
   "metadata": {},
   "outputs": [],
   "source": [
    "arr3=np.array([[10,20,30,40,50],[60,70,80,90,100],[15,25,35,45,55]])"
   ]
  },
  {
   "cell_type": "code",
   "execution_count": 21,
   "id": "50389627-586b-4e97-9463-07382d7f3b36",
   "metadata": {},
   "outputs": [
    {
     "data": {
      "text/plain": [
       "array([[ 10,  20,  30,  40,  50],\n",
       "       [ 60,  70,  80,  90, 100],\n",
       "       [ 15,  25,  35,  45,  55]])"
      ]
     },
     "execution_count": 21,
     "metadata": {},
     "output_type": "execute_result"
    }
   ],
   "source": [
    "arr3"
   ]
  },
  {
   "cell_type": "code",
   "execution_count": 22,
   "id": "d3f795ce-59f5-46b4-a7a6-9361362d4f0b",
   "metadata": {},
   "outputs": [
    {
     "name": "stdout",
     "output_type": "stream",
     "text": [
      "Zeros Array :\n",
      " [[0. 0. 0.]\n",
      " [0. 0. 0.]]\n"
     ]
    }
   ],
   "source": [
    "# Array of zeros\n",
    "zeros_arr = np.zeros((2,3))\n",
    "print(\"Zeros Array :\\n\",zeros_arr)"
   ]
  },
  {
   "cell_type": "code",
   "execution_count": 23,
   "id": "11045beb-0a8b-45f2-8b68-b35910456182",
   "metadata": {},
   "outputs": [
    {
     "name": "stdout",
     "output_type": "stream",
     "text": [
      "Ones Array :\n",
      " [[1. 1. 1.]\n",
      " [1. 1. 1.]\n",
      " [1. 1. 1.]]\n"
     ]
    }
   ],
   "source": [
    "# Array of ones\n",
    "ones_arr = np.ones((3,3))\n",
    "print(\"Ones Array :\\n\",ones_arr)"
   ]
  },
  {
   "cell_type": "code",
   "execution_count": 24,
   "id": "0d1e7633-bc4e-4289-a2b6-bc2724864f66",
   "metadata": {},
   "outputs": [
    {
     "name": "stdout",
     "output_type": "stream",
     "text": [
      "Identity Matrix :\n",
      " [[1. 0. 0.]\n",
      " [0. 1. 0.]\n",
      " [0. 0. 1.]]\n"
     ]
    }
   ],
   "source": [
    "# Identity Matrix\n",
    "identity_arr = np.eye(3)\n",
    "print(\"Identity Matrix :\\n\",identity_arr)"
   ]
  },
  {
   "cell_type": "code",
   "execution_count": 25,
   "id": "fc3a34e9-b249-4648-8d71-a22a965fc8ab",
   "metadata": {},
   "outputs": [
    {
     "name": "stdout",
     "output_type": "stream",
     "text": [
      " Array with np.arange:\n",
      " [0 2 4 6 8]\n"
     ]
    }
   ],
   "source": [
    "# Range of Numbers\n",
    "range_arr = np.arange(0,10,2)\n",
    "print(\" Array with np.arange:\\n\",range_arr)"
   ]
  },
  {
   "cell_type": "code",
   "execution_count": 26,
   "id": "c8e682d1-687c-42a9-9fac-7fcc574fe3eb",
   "metadata": {},
   "outputs": [
    {
     "name": "stdout",
     "output_type": "stream",
     "text": [
      "Array with np.linspace :\n",
      " [0.   0.25 0.5  0.75 1.  ]\n"
     ]
    }
   ],
   "source": [
    "# Evenly spaced values\n",
    "linspace_arr = np.linspace(0,1,5)\n",
    "print(\"Array with np.linspace :\\n\",linspace_arr)"
   ]
  }
 ],
 "metadata": {
  "kernelspec": {
   "display_name": "Python 3 (ipykernel)",
   "language": "python",
   "name": "python3"
  },
  "language_info": {
   "codemirror_mode": {
    "name": "ipython",
    "version": 3
   },
   "file_extension": ".py",
   "mimetype": "text/x-python",
   "name": "python",
   "nbconvert_exporter": "python",
   "pygments_lexer": "ipython3",
   "version": "3.9.7"
  }
 },
 "nbformat": 4,
 "nbformat_minor": 5
}
